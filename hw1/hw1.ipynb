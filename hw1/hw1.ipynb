{
 "cells": [
  {
   "cell_type": "markdown",
   "id": "bab74170",
   "metadata": {},
   "source": [
    "# TDA@HSE 2023\n",
    "\n",
    "## Homework 1"
   ]
  },
  {
   "cell_type": "code",
   "execution_count": 20,
   "id": "ed209c66",
   "metadata": {},
   "outputs": [],
   "source": [
    "%matplotlib inline\n",
    "import matplotlib.pyplot as plt\n",
    "import numpy as np\n",
    "\n",
    "from scipy.linalg import block_diag\n",
    "from sklearn.datasets import make_circles\n",
    "\n",
    "import simplicial\n",
    "import simplicial.drawing\n",
    "\n",
    "from simplicialx.simplicial import SimplicialComplex"
   ]
  },
  {
   "cell_type": "markdown",
   "id": "efa3117d",
   "metadata": {},
   "source": [
    "### Task 1 (14.02)\n",
    "\n",
    "Consider the row and column Dowker complexes of a relation from seminar 1. Compute 0- and 1- Betti numbers of both complexes using the boundary matrix reduction algorithm from seminar 2. Conclude."
   ]
  },
  {
   "cell_type": "code",
   "execution_count": 2,
   "id": "f79c8b4b",
   "metadata": {},
   "outputs": [],
   "source": [
    "R = np.array([\n",
    "    [0, 1, 1, 0, 0, 0, 0, 0, 0],\n",
    "    [1, 0, 0, 0, 0, 0, 0, 0, 0],\n",
    "    [0, 0, 0, 0, 0, 1, 1, 0, 0],\n",
    "    [0, 0, 0, 0, 1, 1, 0, 0, 0],\n",
    "    [0, 0, 0, 0, 0, 1, 0, 0, 0],\n",
    "    [1, 1, 1, 0, 0, 0, 0, 0, 0],\n",
    "    [0, 0, 1, 0, 1, 0, 1, 0, 0],\n",
    "    [0, 0, 1, 1, 1, 0, 0, 0, 0],\n",
    "    [0, 1, 1, 1, 1, 0, 0, 0, 0],\n",
    "    [0, 0, 0, 0, 0, 0, 0, 1, 0],\n",
    "    [0, 0, 0, 1, 0, 0, 0, 0, 0],\n",
    "    [0, 0, 0, 0, 0, 0, 0, 0, 1]\n",
    "])\n",
    "\n",
    "actors_rows = [\n",
    "    \"Bale, Christian\",\n",
    "    \"Carrey, Jim\",\n",
    "    \"Day-Levis, Daniel\",\n",
    "    \"Di Caprio, Leonardo\",\n",
    "    \"Diaz, Cameron\",\n",
    "    \"Freeman, Morgan\",\n",
    "    \"Gordon-Levitt, Joseph\",\n",
    "    \"Hardy, Tom\",\n",
    "    \"Murphy, Cillian\",\n",
    "    \"Pitt, Brad\",\n",
    "    \"Styles, Harry\",\n",
    "    \"Winslet, Kate\"\n",
    "]\n",
    "\n",
    "films_columns = [\n",
    "    \"Bruce Almighty\",\n",
    "    \"Dark Knight\",\n",
    "    \"Dark Knight Rises\",\n",
    "    \"Dunkirk\",\n",
    "    \"Inception\",\n",
    "    \"Gangs of New York\",\n",
    "    \"Lincoln\",\n",
    "    \"Once in Hollywood\",\n",
    "    \"Titanic\"\n",
    "]"
   ]
  },
  {
   "cell_type": "code",
   "execution_count": 3,
   "outputs": [],
   "source": [
    "def row_Dowker_complex(A):\n",
    "    DowkerComplex = SimplicialComplex()\n",
    "\n",
    "    for row in A:\n",
    "        DowkerComplex.add(np.argwhere(row != 0).reshape(-1))\n",
    "\n",
    "    return DowkerComplex"
   ],
   "metadata": {
    "collapsed": false
   }
  },
  {
   "cell_type": "code",
   "execution_count": 4,
   "outputs": [],
   "source": [
    "DC_row = row_Dowker_complex(R)\n",
    "DC_column = row_Dowker_complex(R.T)"
   ],
   "metadata": {
    "collapsed": false
   }
  },
  {
   "cell_type": "code",
   "execution_count": 5,
   "outputs": [
    {
     "data": {
      "text/plain": "[array([[0],\n        [1],\n        [2],\n        [3],\n        [4],\n        [5],\n        [6],\n        [7],\n        [8]]),\n array([[0, 1],\n        [0, 2],\n        [1, 2],\n        [1, 3],\n        [1, 4],\n        [2, 3],\n        [2, 4],\n        [2, 6],\n        [3, 4],\n        [4, 5],\n        [4, 6],\n        [5, 6]]),\n array([[0, 1, 2],\n        [1, 2, 3],\n        [1, 2, 4],\n        [1, 3, 4],\n        [2, 3, 4],\n        [2, 4, 6]]),\n array([[1, 2, 3, 4]])]"
     },
     "execution_count": 5,
     "metadata": {},
     "output_type": "execute_result"
    }
   ],
   "source": [
    "DC_row.simplices"
   ],
   "metadata": {
    "collapsed": false
   }
  },
  {
   "cell_type": "code",
   "execution_count": 6,
   "outputs": [
    {
     "data": {
      "text/plain": "[array([[ 0],\n        [ 1],\n        [ 2],\n        [ 3],\n        [ 4],\n        [ 5],\n        [ 6],\n        [ 7],\n        [ 8],\n        [ 9],\n        [10],\n        [11]]),\n array([[ 0,  5],\n        [ 0,  6],\n        [ 0,  7],\n        [ 0,  8],\n        [ 1,  5],\n        [ 2,  3],\n        [ 2,  4],\n        [ 2,  6],\n        [ 3,  4],\n        [ 3,  6],\n        [ 3,  7],\n        [ 3,  8],\n        [ 5,  6],\n        [ 5,  7],\n        [ 5,  8],\n        [ 6,  7],\n        [ 6,  8],\n        [ 7,  8],\n        [ 7, 10],\n        [ 8, 10]]),\n array([[ 0,  5,  6],\n        [ 0,  5,  7],\n        [ 0,  5,  8],\n        [ 0,  6,  7],\n        [ 0,  6,  8],\n        [ 0,  7,  8],\n        [ 2,  3,  4],\n        [ 3,  6,  7],\n        [ 3,  6,  8],\n        [ 3,  7,  8],\n        [ 5,  6,  7],\n        [ 5,  6,  8],\n        [ 5,  7,  8],\n        [ 6,  7,  8],\n        [ 7,  8, 10]]),\n array([[0, 5, 6, 7],\n        [0, 5, 6, 8],\n        [0, 5, 7, 8],\n        [0, 6, 7, 8],\n        [3, 6, 7, 8],\n        [5, 6, 7, 8]]),\n array([[0, 5, 6, 7, 8]])]"
     },
     "execution_count": 6,
     "metadata": {},
     "output_type": "execute_result"
    }
   ],
   "source": [
    "DC_column.simplices"
   ],
   "metadata": {
    "collapsed": false
   }
  },
  {
   "cell_type": "code",
   "execution_count": 7,
   "outputs": [
    {
     "data": {
      "text/plain": "(array([3., 1., 0., 0.]), array([3., 1., 0., 0., 0.]))"
     },
     "execution_count": 7,
     "metadata": {},
     "output_type": "execute_result"
    }
   ],
   "source": [
    "DC_row.betti(), DC_column.betti()"
   ],
   "metadata": {
    "collapsed": false
   }
  },
  {
   "cell_type": "code",
   "execution_count": 8,
   "outputs": [
    {
     "data": {
      "text/plain": "(array([ 9, 12,  6,  1]), array([12, 20, 15,  6,  1]))"
     },
     "execution_count": 8,
     "metadata": {},
     "output_type": "execute_result"
    }
   ],
   "source": [
    "DC_row.f_vector, DC_column.f_vector"
   ],
   "metadata": {
    "collapsed": false
   }
  },
  {
   "cell_type": "code",
   "execution_count": 132,
   "outputs": [],
   "source": [
    "def boundary_matrix_k(S, k):\n",
    "    \"\"\"\n",
    "    Computes boundary matrix for k and k+1 dim simplices in S\n",
    "    \"\"\"\n",
    "    assert k + 1 < len(S.simplices), 'Incorrect k'\n",
    "\n",
    "    A = S.simplices\n",
    "    n_rows, n_columns = len(A[k]), len(A[k + 1])\n",
    "\n",
    "    B = [[0 for _ in range(n_columns)] for _ in range(n_rows)]\n",
    "\n",
    "    for i, s1 in enumerate(A[k]):\n",
    "        for j, s2 in enumerate(A[k + 1]):\n",
    "            B[i][j] = np.all(np.isin(s1, s2))\n",
    "\n",
    "    return np.array(B, dtype=np.int16)\n",
    "\n",
    "\n",
    "def boundary_matrix(S):\n",
    "    \"\"\"\n",
    "    Computes B as the block-diagonal of Bk\n",
    "    \"\"\"\n",
    "    return block_diag(*[boundary_matrix_k(S, k) for k in range(len(S.simplices) - 1)])"
   ],
   "metadata": {
    "collapsed": false
   }
  },
  {
   "cell_type": "code",
   "execution_count": 133,
   "outputs": [],
   "source": [
    "def full_boundary_matrix(S):\n",
    "    \"\"\"\n",
    "    Computes boundary matrix given the Simplicial Complex\n",
    "    (non-block-diagonal case)\n",
    "    \"\"\"\n",
    "    A = S.simplices\n",
    "\n",
    "    n_rows = sum(len(A[d]) for d in range(len(A) - 1))\n",
    "    n_columns = sum(len(A[d]) for d in range(1, len(A)))\n",
    "\n",
    "    B = [[0 for _ in range(n_columns)] for _ in range(n_rows)]\n",
    "\n",
    "    row_index = 0\n",
    "    for d1 in range(len(A) - 1):\n",
    "        column_index = 0\n",
    "\n",
    "        for d2 in range(d1 + 1, len(A)):\n",
    "            for i, s1 in enumerate(A[d1]):\n",
    "                for j, s2 in enumerate(A[d2]):\n",
    "                    B[row_index + i][column_index + j] = np.all(np.isin(s1, s2))\n",
    "\n",
    "            column_index += A[d2].shape[0]\n",
    "\n",
    "        row_index += A[d1].shape[0]\n",
    "\n",
    "    return np.array(B, dtype=np.int16)"
   ],
   "metadata": {
    "collapsed": false
   }
  },
  {
   "cell_type": "code",
   "execution_count": 134,
   "outputs": [],
   "source": [
    "def boundary_matrix_reduction(B):\n",
    "    # columns_lowest = [0 for _ in range(B.shape[1])]\n",
    "    # for i in range(B.shape[1]):\n",
    "    #     nonzero = np.nonzero(B[:, i])\n",
    "    #     columns_lowest[i] = np.max(nonzero) if len(nonzero) else -1\n",
    "\n",
    "    columns_lowest = [np.max(nonzero) for i in range(B.shape[1]) if len(nonzero := np.nonzero(B[:, i])[0])]\n",
    "\n",
    "    for i in range(B.shape[1]):\n",
    "        j = 0\n",
    "        while j != i:\n",
    "            if columns_lowest[j] == columns_lowest[i] and columns_lowest[j] >= 0:\n",
    "                B[:, i] = (B[:, i] + B[:, j]) % 2\n",
    "                nonzero = np.nonzero(B[:, i])[0]\n",
    "                columns_lowest[i] = np.max(nonzero) if nonzero.shape[0] else -1\n",
    "                j = 0\n",
    "            else:\n",
    "                j += 1\n",
    "\n",
    "    return B"
   ],
   "metadata": {
    "collapsed": false
   }
  },
  {
   "cell_type": "code",
   "execution_count": 135,
   "outputs": [],
   "source": [
    "def reduced_boundary_matrix(A):\n",
    "    return boundary_matrix_reduction(boundary_matrix(A))"
   ],
   "metadata": {
    "collapsed": false
   }
  },
  {
   "cell_type": "code",
   "execution_count": 136,
   "outputs": [],
   "source": [
    "BM_row = boundary_matrix(DC_row)\n",
    "BMR_row = boundary_matrix_reduction(BM_row)"
   ],
   "metadata": {
    "collapsed": false
   }
  },
  {
   "cell_type": "code",
   "execution_count": 141,
   "outputs": [],
   "source": [
    "def compute_betti(S, k):\n",
    "    \"\"\"\n",
    "    Computes betti_k for given Simplicial Complex\n",
    "    via boundary matrix reduction algorithm\n",
    "    \"\"\"\n",
    "    assert k + 1 < len(S.simplices), 'Incorrect k'\n",
    "\n",
    "    A = S.simplices\n",
    "    BMR = reduced_boundary_matrix(S)\n",
    "\n",
    "    c1 = sum(A[i].shape[0] for i in range(k)) - A[0].shape[0]\n",
    "    c2 = c1 + A[k].shape[0]\n",
    "    c3 = c2 + A[k + 1].shape[0]\n",
    "\n",
    "    # we don't have empty vertex columns in boundary matrix\n",
    "    first_nonzero_columns = sum(np.any(BMR[:, i]) for i in range(c1, c2)) if k > 0 else 0\n",
    "    first_zero_columns = A[k].shape[0] - first_nonzero_columns\n",
    "    second_nonzero_columns = sum(np.any(BMR[:, i]) for i in range(c2, c3))\n",
    "\n",
    "    return first_zero_columns - second_nonzero_columns"
   ],
   "metadata": {
    "collapsed": false
   }
  },
  {
   "cell_type": "code",
   "execution_count": 142,
   "outputs": [
    {
     "data": {
      "text/plain": "(3, 1)"
     },
     "execution_count": 142,
     "metadata": {},
     "output_type": "execute_result"
    }
   ],
   "source": [
    "betti_0 = compute_betti(DC_row, 0)\n",
    "betti_1 = compute_betti(DC_row, 1)\n",
    "betti_0, betti_1"
   ],
   "metadata": {
    "collapsed": false
   }
  },
  {
   "cell_type": "code",
   "execution_count": 143,
   "outputs": [
    {
     "data": {
      "text/plain": "(3, 1)"
     },
     "execution_count": 143,
     "metadata": {},
     "output_type": "execute_result"
    }
   ],
   "source": [
    "betti_0 = compute_betti(DC_column, 0)\n",
    "betti_1 = compute_betti(DC_column, 1)\n",
    "betti_0, betti_1"
   ],
   "metadata": {
    "collapsed": false
   }
  },
  {
   "cell_type": "markdown",
   "id": "d6da6669",
   "metadata": {},
   "source": [
    "### Task 2 (1.03)"
   ]
  },
  {
   "cell_type": "markdown",
   "id": "cdc42f59",
   "metadata": {},
   "source": [
    "Consider the standard algorithm for computing persistent homology of a filtered simplicial complex $K$ from seminar 2. Given a boundary matrix of a filtration $\\mathbf{B}$, the task is to obtain a reduced matrix $\\mathbf{R}$. Out of reduced matrix one can obtain the persistent pairing $P$, i.e. the birth-death simplex pairs for each homological class given by the column-row indices of the non-zero columns of $\\mathbf{B}$, and the persistent diagram $D$ given by the correspoding filtration function value for the pairing (seminar 3).\n",
    "\n",
    "Consider the $2$-skeleton of the Vietoris-Rips filtration of a set $X \\in \\mathbb{R}^2$ sampled from a circle."
   ]
  },
  {
   "cell_type": "code",
   "execution_count": 3,
   "id": "b25459e5",
   "metadata": {},
   "outputs": [],
   "source": [
    "X, _ = make_circles(n_samples=(30, 0), noise=0.15, random_state=42)"
   ]
  },
  {
   "cell_type": "code",
   "execution_count": 4,
   "id": "02ac993a",
   "metadata": {},
   "outputs": [
    {
     "data": {
      "image/png": "[encoded data removed]",
      "text/plain": [
       "<Figure size 360x360 with 1 Axes>"
      ]
     },
     "metadata": {
      "needs_background": "light"
     },
     "output_type": "display_data"
    }
   ],
   "source": [
    "plt.figure(figsize=(5,5))\n",
    "plt.scatter(X[:,0], X[:,1])\n",
    "plt.show()"
   ]
  },
  {
   "cell_type": "markdown",
   "id": "a704b07b",
   "metadata": {},
   "source": [
    "The $2$-skeleton of a filtered Vietoris-Rips complex have $X$ as the vertex set of cardinality $n$, with simplices up to dimension $2$, given by all possible $k$ out of $n$ combinations of vertices.\n",
    "\n",
    "Simplices (thus columns of the boundary matrix $\\mathbf{B}$) in the Vietoris-Rips filtration are ordered by the following rule:\n",
    "\n",
    "- filtration function value, with $f(\\sigma)=0$ for vertices, $f(\\sigma)=d(x_i, x_j)$ for edges, and $f(\\sigma) = \\max_{(x_i, x_j) \\in \\sigma} d(x_i, x_j)$ for all other simplices,\n",
    "- simplex dimension,\n",
    "- lexicographic order given by any ordering of the vertices (the ordering is given by the order of rows in the matrix $\\mathbf{X}$).\n",
    "\n",
    "#### Task\n",
    "\n",
    "Given a set of vertices $X$ compute the boundary matrix of its Vietoris-Rips filtration $\\mathbf{B}$, the reduced matrix $\\mathbf{R}$, persistent pairing $P_{VR}(X)$, persistent diagram $D_{VR}(X)$ and the representative cycles for each homological class of dimension $1$.\n",
    "\n",
    "Plot the persistence diagram as a scatter plot or a barcode. Plot the representative cycles on the original plot of the set $X$.\n",
    "\n",
    "Permute the rows of the matrix $\\mathbf{X}$ to obtain new order on simplices given by the new order on vertices. Run the algorithm on the permutation $\\pi(\\mathbf{X})$. Plot the results, and conclude whether a persistent pairing, a persistent diagram, and representative cycles depend on the order on vertices."
   ]
  },
  {
   "cell_type": "code",
   "execution_count": null,
   "id": "866e68e3",
   "metadata": {},
   "outputs": [],
   "source": [
    "# your code here"
   ]
  }
 ],
 "metadata": {
  "kernelspec": {
   "display_name": "Python 3 (ipykernel)",
   "language": "python",
   "name": "python3"
  },
  "language_info": {
   "codemirror_mode": {
    "name": "ipython",
    "version": 3
   },
   "file_extension": ".py",
   "mimetype": "text/x-python",
   "name": "python",
   "nbconvert_exporter": "python",
   "pygments_lexer": "ipython3",
   "version": "3.10.2"
  }
 },
 "nbformat": 4,
 "nbformat_minor": 5
}
