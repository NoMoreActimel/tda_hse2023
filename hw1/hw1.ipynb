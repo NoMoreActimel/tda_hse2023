{
 "cells": [
  {
   "cell_type": "markdown",
   "id": "bab74170",
   "metadata": {},
   "source": [
    "# TDA@HSE 2023\n",
    "\n",
    "## Homework 1"
   ]
  },
  {
   "cell_type": "markdown",
   "id": "efa3117d",
   "metadata": {},
   "source": [
    "### Task 1 (14.02)\n",
    "\n",
    "Consider the row and column Dowker complexes of a relation from seminar 1. Compute 0- and 1- Betti numbers of both complexes using the boundary matrix reduction algorithm from seminar 2. Conclude."
   ]
  },
  {
   "cell_type": "code",
   "execution_count": null,
   "id": "f79c8b4b",
   "metadata": {},
   "outputs": [],
   "source": [
    "# your code here"
   ]
  },
  {
   "cell_type": "markdown",
   "id": "d6da6669",
   "metadata": {},
   "source": [
    "### Task 2 (TBA)"
   ]
  },
  {
   "cell_type": "code",
   "execution_count": null,
   "id": "3931648d",
   "metadata": {},
   "outputs": [],
   "source": [
    "# your code here"
   ]
  }
 ],
 "metadata": {
  "kernelspec": {
   "display_name": "Python 3 (ipykernel)",
   "language": "python",
   "name": "python3"
  },
  "language_info": {
   "codemirror_mode": {
    "name": "ipython",
    "version": 3
   },
   "file_extension": ".py",
   "mimetype": "text/x-python",
   "name": "python",
   "nbconvert_exporter": "python",
   "pygments_lexer": "ipython3",
   "version": "3.10.2"
  }
 },
 "nbformat": 4,
 "nbformat_minor": 5
}
