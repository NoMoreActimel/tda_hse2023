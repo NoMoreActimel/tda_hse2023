{
 "cells": [
  {
   "cell_type": "markdown",
   "id": "bab74170",
   "metadata": {},
   "source": [
    "# TDA@HSE 2023\n",
    "\n",
    "## Homework 1"
   ]
  },
  {
   "cell_type": "code",
   "execution_count": 1,
   "id": "ed209c66",
   "metadata": {},
   "outputs": [],
   "source": [
    "%matplotlib inline\n",
    "import matplotlib.pyplot as plt\n",
    "import numpy as np\n",
    "\n",
    "from sklearn.datasets import make_circles"
   ]
  },
  {
   "cell_type": "markdown",
   "id": "efa3117d",
   "metadata": {},
   "source": [
    "### Task 1 (14.02)\n",
    "\n",
    "Consider the row and column Dowker complexes of a relation from seminar 1. Compute 0- and 1- Betti numbers of both complexes using the boundary matrix reduction algorithm from seminar 2. Conclude."
   ]
  },
  {
   "cell_type": "code",
   "execution_count": null,
   "id": "f79c8b4b",
   "metadata": {},
   "outputs": [],
   "source": [
    "# your code here"
   ]
  },
  {
   "cell_type": "markdown",
   "id": "d6da6669",
   "metadata": {},
   "source": [
    "### Task 2 (1.03)"
   ]
  },
  {
   "cell_type": "markdown",
   "id": "cdc42f59",
   "metadata": {},
   "source": [
    "Consider the standard algorithm for computing persistent homology of a filtered simplicial complex $K$ from seminar 2. Given a boundary matrix of a filtration $\\mathbf{B}$, the task is to obtain a reduced matrix $\\mathbf{R}$. Out of reduced matrix one can obtain the persistent pairing $P$, i.e. the birth-death simplex pairs for each homological class given by the column-row indices of the non-zero columns of $\\mathbf{B}$, and the persistent diagram $D$ given by the correspoding filtration function value for the pairing (seminar 3).\n",
    "\n",
    "Consider the $2$-skeleton of the Vietoris-Rips filtration of a set $X \\in \\mathbb{R}^2$ sampled from a circle."
   ]
  },
  {
   "cell_type": "code",
   "execution_count": 3,
   "id": "b25459e5",
   "metadata": {},
   "outputs": [],
   "source": [
    "X, _ = make_circles(n_samples=(30, 0), noise=0.15, random_state=42)"
   ]
  },
  {
   "cell_type": "code",
   "execution_count": 4,
   "id": "02ac993a",
   "metadata": {},
   "outputs": [
    {
     "data": {
      "image/png": "[encoded data removed]",
      "text/plain": [
       "<Figure size 360x360 with 1 Axes>"
      ]
     },
     "metadata": {
      "needs_background": "light"
     },
     "output_type": "display_data"
    }
   ],
   "source": [
    "plt.figure(figsize=(5,5))\n",
    "plt.scatter(X[:,0], X[:,1])\n",
    "plt.show()"
   ]
  },
  {
   "cell_type": "markdown",
   "id": "a704b07b",
   "metadata": {},
   "source": [
    "The $2$-skeleton of a filtered Vietoris-Rips complex have $X$ as the vertex set of cardinality $n$, with simplices up to dimension $2$, given by all possible $k$ out of $n$ combinations of vertices.\n",
    "\n",
    "Simplices (thus columns of the boundary matrix $\\mathbf{B}$) in the Vietoris-Rips filtration are ordered by the following rule:\n",
    "\n",
    "- filtration function value, with $f(\\sigma)=0$ for vertices, $f(\\sigma)=d(x_i, x_j)$ for edges, and $f(\\sigma) = \\max_{(x_i, x_j) \\in \\sigma} d(x_i, x_j)$ for all other simplices,\n",
    "- simplex dimension,\n",
    "- lexicographic order given by any ordering of the vertices (the ordering is given by the order of rows in the matrix $\\mathbf{X}$).\n",
    "\n",
    "#### Task\n",
    "\n",
    "Given a set of vertices $X$ compute the boundary matrix of its Vietoris-Rips filtration $\\mathbf{B}$, the reduced matrix $\\mathbf{R}$, persistent pairing $P_{VR}(X)$, persistent diagram $D_{VR}(X)$ and the representative cycles for each homological class of dimension $1$.\n",
    "\n",
    "Plot the persistence diagram as a scatter plot or a barcode. Plot the representative cycles on the original plot of the set $X$.\n",
    "\n",
    "Permute the rows of the matrix $\\mathbf{X}$ to obtain new order on simplices given by the new order on vertices. Run the algorithm on the permutation $\\pi(\\mathbf{X})$. Plot the results, and conclude whether a persistent pairing, a persistent diagram, and representative cycles depend on the order on vertices."
   ]
  },
  {
   "cell_type": "code",
   "execution_count": null,
   "id": "866e68e3",
   "metadata": {},
   "outputs": [],
   "source": [
    "# your code here"
   ]
  }
 ],
 "metadata": {
  "kernelspec": {
   "display_name": "Python 3 (ipykernel)",
   "language": "python",
   "name": "python3"
  },
  "language_info": {
   "codemirror_mode": {
    "name": "ipython",
    "version": 3
   },
   "file_extension": ".py",
   "mimetype": "text/x-python",
   "name": "python",
   "nbconvert_exporter": "python",
   "pygments_lexer": "ipython3",
   "version": "3.10.2"
  }
 },
 "nbformat": 4,
 "nbformat_minor": 5
}
