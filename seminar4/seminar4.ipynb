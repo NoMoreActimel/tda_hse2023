{
 "cells": [
  {
   "cell_type": "code",
   "execution_count": null,
   "id": "3407a117",
   "metadata": {},
   "outputs": [],
   "source": [
    "!pip install sympy"
   ]
  },
  {
   "cell_type": "code",
   "execution_count": null,
   "id": "c54c9aae",
   "metadata": {},
   "outputs": [],
   "source": [
    "%matplotlib inline\n",
    "import matplotlib.pyplot as plt\n",
    "\n",
    "import numpy as np\n",
    "import networkx as nx\n",
    "\n",
    "from sklearn.datasets import make_circles\n",
    "\n",
    "import sys \n",
    "sys.path.append(\"../seminar1/\")\n",
    "from simplicialx.simplicial import SimplicialComplex\n",
    "\n",
    "from itertools import permutations\n",
    "from sympy.combinatorics.permutations import Permutation\n",
    "\n",
    "from sklearn.ensemble import RandomForestClassifier\n",
    "from sklearn.model_selection import cross_val_score\n",
    "\n",
    "from tqdm import tqdm"
   ]
  },
  {
   "cell_type": "code",
   "execution_count": null,
   "id": "368f29e5",
   "metadata": {},
   "outputs": [],
   "source": [
    "def neighbors_lower(x_id, A):\n",
    "    LT = np.tril(A)\n",
    "    return list(np.nonzero(LT[x_id])[0])\n",
    "\n",
    "def intersect(d):\n",
    "    return list(set(d[0]).intersection(*d))\n",
    "\n",
    "def grade(K):\n",
    "    dim = len(max(K, key=len))\n",
    "    K_graded = [[] for _ in range(dim)]\n",
    "    for sigma in K:\n",
    "        dim_sigma = len(sigma) - 1\n",
    "        #print(\"{}-dim simplex: {}\".format(dim_sigma, sigma))\n",
    "        if dim_sigma == 0:\n",
    "            sigma = sigma[0]\n",
    "        K_graded[dim_sigma].append(sigma)\n",
    "        \n",
    "    for k, item in enumerate(K_graded):\n",
    "        if k==0:\n",
    "            item_array = np.expand_dims(np.array(item), 1)\n",
    "        else:\n",
    "            item_array = np.array(item)\n",
    "        \n",
    "        K_graded[k] = item_array\n",
    "\n",
    "    return K_graded\n",
    "\n",
    "def expand_incremental(G, k=2):\n",
    "    \n",
    "    k = k+1 # k-clique instead of (k-1)-simplex\n",
    "    \n",
    "    def add_cofaces(A, k, tau, N_lower, simplices):\n",
    "        \n",
    "        # V = V \\cup tau\n",
    "        simplices.append(tau)\n",
    "        \n",
    "        # if dim(tau) >= k\n",
    "        if len(tau) >= k:\n",
    "            return\n",
    "        else:\n",
    "            # foreach v \\in N\n",
    "            for v in N_lower:\n",
    "                \n",
    "                # \\sigma = \\tau \\cup v\n",
    "                sigma = sorted(tau + [v])\n",
    "                M = intersect([N_lower, neighbors_lower(v, A)])\n",
    "                add_cofaces(A, k, sigma, M, simplices)\n",
    "            \n",
    "        \n",
    "        return simplices\n",
    "    \n",
    "    simplices = []\n",
    "    A = nx.to_numpy_array(G)\n",
    "\n",
    "    # define vertex set\n",
    "    V = [item for item in nx.nodes(G)]\n",
    "    \n",
    "    for u in V:\n",
    "        N_lower = neighbors_lower(u, A)\n",
    "        add_cofaces(A, k, [u], N_lower, simplices)\n",
    "    \n",
    "    return grade(simplices)\n",
    "\n",
    "def boundary_matrix(K, k=1):\n",
    "    \n",
    "    # get simplices, lists of arrays\n",
    "    sigmas, taus = K[k], K[k-1]\n",
    "    \n",
    "    # init boundary matrix B\n",
    "    B = np.zeros((len(taus), len(sigmas)))\n",
    "    \n",
    "    # iterate over columns of B, i.e. k-simplices sigmas\n",
    "    for j, sigma in enumerate(sigmas):\n",
    "        \n",
    "        # omit h-th vertex in a k-simplex sigma\n",
    "        for h in range(k+1):\n",
    "            \n",
    "            idx_h = np.ones(k+1).astype(bool)\n",
    "            idx_h[h] = False\n",
    "            \n",
    "            # get k-1 simplex tau and find i of it\n",
    "            tau = sigma[idx_h]\n",
    "            i = np.flatnonzero(np.equal(taus, tau).all(axis=1))[0]\n",
    "            \n",
    "            B[i,j] = (-1) ** h # orientation sign\n",
    "            \n",
    "    return B\n",
    "\n",
    "def generalized_boundary_matrix(K, k=1, p=1, eta_sign=1):\n",
    "    \n",
    "    # get simplices, lists of arrays\n",
    "    sigmas, taus = K[k], K[k-p]\n",
    "    \n",
    "    # init boundary matrix B\n",
    "    B = np.zeros((len(taus), len(sigmas)))\n",
    "    \n",
    "    # iterate over columns of B, i.e. k-simplices sigmas\n",
    "    for j, sigma in enumerate(sigmas):\n",
    "        \n",
    "        mask = np.ones(k+1).astype(bool)\n",
    "        mask[:p] = False\n",
    "\n",
    "        # omit h_1,...,h_j vertices in a k-simplex sigma\n",
    "        for idx in np.array(sorted(set(permutations(mask)))):\n",
    "\n",
    "            # get k-p simplex tau and find i of it\n",
    "            tau = sigma[idx]\n",
    "            i = np.flatnonzero(np.equal(taus, tau).all(axis=1))[0]\n",
    "\n",
    "            vertices_in = list(np.array(range(k+1))[idx])\n",
    "            vertices_out = list(np.array(range(k+1))[~idx])\n",
    "\n",
    "            B[i,j] = eta_sign * Permutation(vertices_out + vertices_in).signature() # orientation sign\n",
    "            \n",
    "    return B\n",
    "\n",
    "def normalize(L):\n",
    "    n = L.shape[0]\n",
    "    D = np.diag(np.diag(L)) + np.eye(n) * 1e-9\n",
    "    D_inv = np.linalg.inv(D)\n",
    "    return D_inv @ L"
   ]
  },
  {
   "cell_type": "markdown",
   "id": "abe56a1a",
   "metadata": {},
   "source": [
    "### Hodge Laplacian for harmonic representatives"
   ]
  },
  {
   "cell_type": "code",
   "execution_count": null,
   "id": "708ea3e9",
   "metadata": {},
   "outputs": [],
   "source": [
    "X = np.array([\n",
    "    [1, 3], # \n",
    "    [3, 3],\n",
    "    [0, 2],\n",
    "    [2, 2],\n",
    "    [4, 2],\n",
    "    [0, 0],\n",
    "    [4, 0]\n",
    "])"
   ]
  },
  {
   "cell_type": "code",
   "execution_count": null,
   "id": "bb8db309",
   "metadata": {},
   "outputs": [],
   "source": [
    "cmplx = SimplicialComplex()\n",
    "\n",
    "cmplx.add([0,1])\n",
    "cmplx.add([0,2,3])\n",
    "cmplx.add([1,3,4])\n",
    "cmplx.add([2,5])\n",
    "cmplx.add([4,6])\n",
    "cmplx.add([5,6])\n",
    "\n",
    "cmplx.simplices[0]"
   ]
  },
  {
   "cell_type": "code",
   "execution_count": null,
   "id": "b9d9faa4",
   "metadata": {},
   "outputs": [],
   "source": [
    "plt.figure(figsize=(6,6))\n",
    "plt.scatter(X[:,0], X[:,1], c=\"b\", s=25)\n",
    "plt.xlim(-0.5, 4.5)\n",
    "plt.ylim(-0.5, 3.5)\n",
    "\n",
    "# edges\n",
    "for edge in cmplx.simplices[1]:\n",
    "    plt.plot(X[edge][:,0], X[edge][:,1], c=\"b\", alpha=0.25, linewidth=1)\n",
    "\n",
    "# triangles\n",
    "for triangle in cmplx.simplices[2]:\n",
    "    t = plt.Polygon(X[triangle], color=\"b\", alpha=0.1, linewidth=0)\n",
    "    plt.gca().add_patch(t)\n",
    "    \n",
    "for vertex in cmplx.simplices[0]:\n",
    "        plt.annotate(vertex[0], (X[vertex,0]-0.2, X[vertex,1]-0.15), fontsize=12)\n",
    "\n",
    "plt.show()"
   ]
  },
  {
   "cell_type": "markdown",
   "id": "77dd459c",
   "metadata": {},
   "source": [
    "#### Boundary matrices"
   ]
  },
  {
   "cell_type": "code",
   "execution_count": null,
   "id": "3c8ea2bd",
   "metadata": {},
   "outputs": [],
   "source": [
    "B1 = cmplx.boundary_operator_matrix(k=1) # edge-vertices\n",
    "B2 = cmplx.boundary_operator_matrix(k=2) # triangle-edges"
   ]
  },
  {
   "cell_type": "code",
   "execution_count": null,
   "id": "bc0f128a",
   "metadata": {},
   "outputs": [],
   "source": [
    "B1"
   ]
  },
  {
   "cell_type": "code",
   "execution_count": null,
   "id": "3a5017d7",
   "metadata": {},
   "outputs": [],
   "source": [
    "B2"
   ]
  },
  {
   "cell_type": "markdown",
   "id": "eecabdb9",
   "metadata": {},
   "source": [
    "#### Graph Laplacian"
   ]
  },
  {
   "cell_type": "code",
   "execution_count": null,
   "id": "d1f72279",
   "metadata": {},
   "outputs": [],
   "source": [
    "L0 = B1 @ B1.T\n",
    "L0"
   ]
  },
  {
   "cell_type": "code",
   "execution_count": null,
   "id": "1c350d31",
   "metadata": {},
   "outputs": [],
   "source": [
    "np.linalg.eigvalsh(L0)"
   ]
  },
  {
   "cell_type": "markdown",
   "id": "7ca5904f",
   "metadata": {},
   "source": [
    "#### Hodge Laplacian"
   ]
  },
  {
   "cell_type": "code",
   "execution_count": null,
   "id": "ee7a413b",
   "metadata": {},
   "outputs": [],
   "source": [
    "L1 = B1.T @ B1 + B2 @ B2.T\n",
    "L1"
   ]
  },
  {
   "cell_type": "code",
   "execution_count": null,
   "id": "42361ed3",
   "metadata": {},
   "outputs": [],
   "source": [
    "eigenvalues, eigenvectors = np.linalg.eigh(L1)\n",
    "eigenvalues"
   ]
  },
  {
   "cell_type": "code",
   "execution_count": null,
   "id": "4838f298",
   "metadata": {},
   "outputs": [],
   "source": [
    "np.abs(eigenvectors[:,0])"
   ]
  },
  {
   "cell_type": "code",
   "execution_count": null,
   "id": "54f02daf",
   "metadata": {},
   "outputs": [],
   "source": [
    "np.abs(eigenvectors[:,1]) / np.abs(eigenvectors[:,1]).max()"
   ]
  },
  {
   "cell_type": "code",
   "execution_count": null,
   "id": "213ffceb",
   "metadata": {},
   "outputs": [],
   "source": [
    "# for each nonzero eigenvalue\n",
    "for k in range(np.isclose(eigenvalues, 0).sum()):\n",
    "\n",
    "    plt.figure(figsize=(6,6))\n",
    "    plt.scatter(X[:,0], X[:,1], c=\"b\", s=25)\n",
    "    plt.xlim(-0.5, 4.5)\n",
    "    plt.ylim(-0.5, 3.5)\n",
    "    \n",
    "    # edges\n",
    "    for edge in cmplx.simplices[1]:\n",
    "        plt.plot(X[edge][:,0], X[edge][:,1], c=\"b\", alpha=0.05, linewidth=1)\n",
    "\n",
    "    # triangles\n",
    "    for triangle in cmplx.simplices[2]:\n",
    "        t = plt.Polygon(X[triangle], color=\"b\", alpha=0.1, linewidth=0)\n",
    "        plt.gca().add_patch(t)\n",
    "\n",
    "    # harmonic representatives\n",
    "    eigenvector_normalized = np.abs(eigenvectors[:,k]) / np.abs(eigenvectors[:,k]).max()\n",
    "    for i, edge in enumerate(cmplx.simplices[1]):\n",
    "        plt.plot(X[edge][:,0], X[edge][:,1], c=\"b\", alpha=eigenvector_normalized[i], linewidth=5*eigenvector_normalized[i], label=\"({}, {}): {:.3f}\".format(edge[0], edge[1], np.abs(eigenvectors[i,k])))\n",
    "\n",
    "    for vertex in cmplx.simplices[0]:\n",
    "        plt.annotate(vertex[0], (X[vertex,0]-0.2, X[vertex,1]-0.15), fontsize=12)\n",
    "\n",
    "    plt.legend(loc=\"upper right\", bbox_to_anchor=(1.35, 1.0))\n",
    "    plt.show()\n"
   ]
  },
  {
   "cell_type": "markdown",
   "id": "454a54d1",
   "metadata": {},
   "source": [
    "### Hodge Laplacian for classification"
   ]
  },
  {
   "cell_type": "code",
   "execution_count": null,
   "id": "e15db656",
   "metadata": {},
   "outputs": [],
   "source": [
    "n, m, ps = 50, 10, [0.075, 0.1, 0.15]\n",
    "\n",
    "fig, ax = plt.subplots(nrows=1, ncols=3, figsize=(16.5,5), dpi=200)\n",
    "\n",
    "def stack(idx):\n",
    "    ret = np.empty((0, 2))\n",
    "    for _id in idx:\n",
    "        ret = np.vstack((ret, X[_id,:]))\n",
    "    return ret\n",
    "\n",
    "for i, p_i in enumerate(ps):\n",
    "    \n",
    "    G = nx.generators.random_graphs.watts_strogatz_graph(n, m, p_i)\n",
    "    K = expand_incremental(G, k=2)\n",
    "    \n",
    "    # boundary matrices\n",
    "    B1 = boundary_matrix(K, k=1)\n",
    "    B2 = boundary_matrix(K, k=2)\n",
    "    \n",
    "    # Laplacians\n",
    "    L0 = B1 @ B1.T\n",
    "    L1 = B1.T @ B1 + B2 @ B2.T\n",
    "    \n",
    "    # eigenvalues/vectors\n",
    "    eigenvalues_v, eigenvectors_v = np.linalg.eigh(L0)\n",
    "    eigenvalues_e, eigenvectors_e = np.linalg.eigh(L1)\n",
    "    \n",
    "    # average clustering coefficient/shortest path lengths of nodes\n",
    "    average_clustering = nx.average_clustering(G)\n",
    "    average_shortest_path_length = nx.average_shortest_path_length(G)\n",
    "    \n",
    "    X_dict = nx.kamada_kawai_layout(G)\n",
    "    X = np.zeros((n,2))\n",
    "    for j in X_dict:\n",
    "        X[j] = X_dict[j]\n",
    "    \n",
    "    ax[i].set_title(\"p={}, $\\Gamma$={:.2f}, $\\Pi$={:.2f}\".format(p_i, average_clustering, average_shortest_path_length))\n",
    "    ax[i].scatter(X[:,0], X[:,1], c=\"k\", s=10)\n",
    "\n",
    "    # plot edges\n",
    "    for e in G.edges():\n",
    "        (start_id, end_id) = e\n",
    "        ax[i].plot([X[start_id,0], X[end_id,0]], [X[start_id,1], X[end_id,1]], 'c-', alpha=0.5)\n",
    "        \n",
    "    # plot triangles\n",
    "    for triangle in K[2]:\n",
    "        t = plt.Polygon(stack(triangle), color=\"blue\", alpha=0.02)\n",
    "        ax[i].add_patch(t)\n",
    "\n",
    "plt.show()"
   ]
  },
  {
   "cell_type": "markdown",
   "id": "1e0d7ecf",
   "metadata": {},
   "source": [
    "#### Hodge Laplacian spectra"
   ]
  },
  {
   "cell_type": "code",
   "execution_count": null,
   "id": "e2ef6df6",
   "metadata": {},
   "outputs": [],
   "source": [
    "N = 100\n",
    "\n",
    "spectra0 = []\n",
    "spectra012 = []\n",
    "spectra1 = []\n",
    "spectra0_norm = []\n",
    "spectra012_norm = []\n",
    "spectra1_norm = []\n",
    "\n",
    "for p_i in tqdm(np.repeat(ps, N)):\n",
    "    \n",
    "    # generate graph\n",
    "    G = nx.generators.random_graphs.watts_strogatz_graph(n, m, p_i)\n",
    "    \n",
    "    # clique complex of graph\n",
    "    K = expand_incremental(G, k=2)\n",
    "    \n",
    "    # boundary matrices\n",
    "    B1 = boundary_matrix(K, k=1)\n",
    "    B2 = boundary_matrix(K, k=2)\n",
    "    B22 = generalized_boundary_matrix(K, k=2, p=2)\n",
    "    \n",
    "    # Laplacians\n",
    "    L0 = B1 @ B1.T\n",
    "    L1 = B1.T @ B1 + B2 @ B2.T\n",
    "    L012 = B22 @ B22.T\n",
    "    \n",
    "    # normalized Laplacians\n",
    "    L0_norm = normalize(L0)\n",
    "    L1_norm = normalize(L1)\n",
    "    L012_norm = normalize(L012)\n",
    "    \n",
    "    # eigenvalues\n",
    "    eigenvalues_v, _ = np.linalg.eigh(L0)\n",
    "    eigenvalues_e, _ = np.linalg.eigh(L1)\n",
    "    eigenvalues_vt, _ = np.linalg.eigh(L012)\n",
    "    eigenvalues_v_norm = np.sort(np.linalg.eigvals(L0_norm))\n",
    "    eigenvalues_e_norm = np.sort(np.linalg.eigvals(L1_norm))\n",
    "    eigenvalues_vt_norm = np.sort(np.linalg.eigvals(L012_norm))\n",
    "    \n",
    "    spectra0.append(eigenvalues_v)\n",
    "    spectra1.append(eigenvalues_e)\n",
    "    spectra012.append(eigenvalues_vt)\n",
    "    spectra0_norm.append(eigenvalues_v_norm)\n",
    "    spectra1_norm.append(eigenvalues_e_norm)\n",
    "    spectra012_norm.append(eigenvalues_vt_norm)\n",
    "    \n",
    "spectra0 = np.array(spectra0)\n",
    "spectra1 = np.array(spectra1)\n",
    "spectra012 = np.array(spectra012)\n",
    "spectra0_norm = np.array(spectra0_norm)\n",
    "spectra1_norm = np.array(spectra1_norm)\n",
    "spectra012_norm = np.array(spectra012_norm)"
   ]
  },
  {
   "cell_type": "code",
   "execution_count": null,
   "id": "5986535e",
   "metadata": {},
   "outputs": [],
   "source": [
    "fig, ax = plt.subplots(nrows=1, ncols=3, figsize=(16.5,5), dpi=200)\n",
    "ax[0].set_title(\"$L_0$ spectrum\")\n",
    "ax[1].set_title(\"$L_{1}$ spectrum\")\n",
    "ax[2].set_title(\"$L_{012}$ spectrum\")\n",
    "ax[0].plot(spectra0[0:N].T, c=\"r\", alpha=0.33)\n",
    "ax[0].plot(spectra0[N:N*2].T, c=\"g\", alpha=0.4)\n",
    "ax[0].plot(spectra0[N*2:N*3].T, c=\"b\", alpha=0.1)\n",
    "ax[1].plot(spectra1[0:N].T, c=\"r\", alpha=0.33)\n",
    "ax[1].plot(spectra1[N:2*N].T, c=\"g\", alpha=0.4)\n",
    "ax[1].plot(spectra1[N*2:N*3].T, c=\"b\", alpha=0.1)\n",
    "ax[2].plot(spectra012[0:N].T, c=\"r\", alpha=0.33)\n",
    "ax[2].plot(spectra012[N:2*N].T, c=\"g\", alpha=0.4)\n",
    "ax[2].plot(spectra012[N*2:N*3].T, c=\"b\", alpha=0.1)\n",
    "plt.show()"
   ]
  },
  {
   "cell_type": "markdown",
   "id": "b450968d",
   "metadata": {},
   "source": [
    "### Classification"
   ]
  },
  {
   "cell_type": "code",
   "execution_count": null,
   "id": "fd860e21",
   "metadata": {},
   "outputs": [],
   "source": [
    "n_repeats = 10\n",
    "y = np.concatenate((np.ones(N) * 0, np.ones(N) * 1, np.ones(N) * 2))"
   ]
  },
  {
   "cell_type": "markdown",
   "id": "c3bbc9bb",
   "metadata": {},
   "source": [
    "#### L0"
   ]
  },
  {
   "cell_type": "code",
   "execution_count": null,
   "id": "07dce185",
   "metadata": {},
   "outputs": [],
   "source": [
    "%%time\n",
    "results = []\n",
    "for r in range(n_repeats):\n",
    "    clf = RandomForestClassifier(random_state=r)\n",
    "    results.append(list(cross_val_score(clf, spectra0, y, cv=5)))\n",
    "    \n",
    "results = np.array(results)\n",
    "print(\"{:.4f}\".format(np.mean(results) * 100))"
   ]
  },
  {
   "cell_type": "markdown",
   "id": "7a6d5577",
   "metadata": {},
   "source": [
    "#### L1"
   ]
  },
  {
   "cell_type": "code",
   "execution_count": null,
   "id": "c3c342e2",
   "metadata": {},
   "outputs": [],
   "source": [
    "%%time\n",
    "results = []\n",
    "for r in range(n_repeats):\n",
    "    clf = RandomForestClassifier(random_state=r)\n",
    "    results.append(list(cross_val_score(clf, spectra1, y, cv=5)))\n",
    "    \n",
    "results = np.array(results)\n",
    "print(\"{:.4f}\".format(np.mean(results) * 100))"
   ]
  },
  {
   "cell_type": "markdown",
   "id": "bff9a45c",
   "metadata": {},
   "source": [
    "#### L012"
   ]
  },
  {
   "cell_type": "code",
   "execution_count": null,
   "id": "e43f9680",
   "metadata": {},
   "outputs": [],
   "source": [
    "%%time\n",
    "results = []\n",
    "for r in range(n_repeats):\n",
    "    clf = RandomForestClassifier(random_state=r)\n",
    "    results.append(list(cross_val_score(clf, spectra012, y, cv=5)))\n",
    "    \n",
    "results = np.array(results)\n",
    "print(\"{:.4f}\".format(np.mean(results) * 100))"
   ]
  },
  {
   "cell_type": "code",
   "execution_count": null,
   "id": "f38cb77a",
   "metadata": {},
   "outputs": [],
   "source": []
  }
 ],
 "metadata": {
  "kernelspec": {
   "display_name": "Python 3 (ipykernel)",
   "language": "python",
   "name": "python3"
  },
  "language_info": {
   "codemirror_mode": {
    "name": "ipython",
    "version": 3
   },
   "file_extension": ".py",
   "mimetype": "text/x-python",
   "name": "python",
   "nbconvert_exporter": "python",
   "pygments_lexer": "ipython3",
   "version": "3.10.2"
  }
 },
 "nbformat": 4,
 "nbformat_minor": 5
}
