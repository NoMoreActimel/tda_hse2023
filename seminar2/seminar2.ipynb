{
 "cells": [
  {
   "cell_type": "markdown",
   "metadata": {},
   "source": [
    "# TDA@HSE\n",
    "## Seminar 2"
   ]
  },
  {
   "cell_type": "code",
   "execution_count": null,
   "metadata": {},
   "outputs": [],
   "source": [
    "%matplotlib inline\n",
    "import matplotlib.pyplot as plt\n",
    "\n",
    "import numpy as np\n",
    "from numpy.linalg import matrix_rank\n",
    "from scipy.linalg import block_diag\n",
    "\n",
    "import simplicial\n",
    "import simplicial.drawing"
   ]
  },
  {
   "cell_type": "code",
   "execution_count": null,
   "metadata": {},
   "outputs": [],
   "source": [
    "D1 = np.array([\n",
    "    [1, 1, 0, 0, 0],\n",
    "    [-1, 0, 1, 1, 0],\n",
    "    [0, 0, -1, 0, 1],\n",
    "    [0, -1, 0, -1, -1]\n",
    "])\n",
    "c_oriented = np.array([1, 0, 0, 1, -1])\n",
    "z_oriented = np.array([1, -1, 1, 0, 1])\n",
    "D1 @ c_oriented, D1 @ z_oriented"
   ]
  },
  {
   "cell_type": "markdown",
   "metadata": {},
   "source": [
    "## Computing simplicial homology"
   ]
  },
  {
   "cell_type": "code",
   "execution_count": null,
   "metadata": {},
   "outputs": [],
   "source": [
    "# create simplicial complex\n",
    "K = simplicial.SimplicialComplex()\n",
    "\n",
    "# add 0-simplices (vertices)\n",
    "v1 = K.addSimplex(id=\"1\")\n",
    "v2 = K.addSimplex(id=\"2\")\n",
    "v3 = K.addSimplex(id=\"3\")\n",
    "v4 = K.addSimplex(id=\"4\")\n",
    "\n",
    "# add 1-simplices (edges)\n",
    "K.addSimplex(['1', '2'], id=\"12\")\n",
    "K.addSimplex(['1', '4'], id=\"14\")\n",
    "K.addSimplex(['2', '3'], id=\"23\")\n",
    "K.addSimplex(['2', '4'], id=\"24\")\n",
    "K.addSimplex(['3', '4'], id=\"34\")\n",
    "\n",
    "# add 2-simplices (triangles)\n",
    "K.addSimplex(['23', '24', '34'], id=\"234\")\n",
    "\n",
    "# positions\n",
    "offset = (-0.05, 0.075)\n",
    "pos = [(0.0, 0.5), (0.5, 1.0), (1.0, 0.5), (0.5, 0.0)]\n",
    "\n",
    "# set positions for vertices\n",
    "em = simplicial.Embedding(K)\n",
    "em.positionSimplex(v1, pos[0])\n",
    "em.positionSimplex(v2, pos[1])\n",
    "em.positionSimplex(v3, pos[2])\n",
    "em.positionSimplex(v4, pos[3])\n",
    "\n",
    "# draw simplicial complex\n",
    "fig = plt.figure(figsize=(6,4.5))\n",
    "plt.title(\"Geometric realization of simplicial complex K\")\n",
    "for i in range(4):\n",
    "    plt.text(pos[i][0] + offset[0], pos[i][1] + offset[1], str(i+1), fontsize=16)\n",
    "simplicial.drawing.draw_complex(K, em)"
   ]
  },
  {
   "cell_type": "markdown",
   "metadata": {},
   "source": [
    "### Spaces of simplices\n",
    "\n",
    "Given a simplicial complex $K = \\{\\emptyset, 1, 2, 3, 4, 12, 14, 23, 24, 34, 234\\}$ its spaces of simplices are\n",
    "\n",
    "$$\n",
    "\\begin{align}\n",
    "\\Delta_0 &= \\{0, 1, 2, 3\\}\\\\\n",
    "\\Delta_1 &= \\{12, 14, 23, 24, 34 \\}\\\\\n",
    "\\Delta_2 &= \\{234 \\}\n",
    "\\end{align}\n",
    "$$"
   ]
  },
  {
   "cell_type": "markdown",
   "metadata": {},
   "source": [
    "### Chain spaces\n",
    "\n",
    "Chain space $C_k$ is defined as a formal sum of $k$-simplicies with coefficients in a field $\\mathbb{k}$\n",
    "\n",
    "$$c_k = \\sum_i \\alpha \\sigma_i \\in C_k,~\\textrm{where}~\\sigma_i \\in \\Delta_k, \\alpha \\in \\mathbb{k}$$\n",
    "\n",
    "#### Examples\n",
    "\n",
    "Vertex chains $C_0$\n",
    "\n",
    "$$\n",
    "c_0 = [0] \\sim [0 * 1 + 0 * 2 + 0 * 3 + 0 * 4]\\\\\n",
    "c_0' = [1 + 2 + 4] ~ [1 * 1 + 1 * 2 + 0 * 3 + 1 * 4]\n",
    "$$\n",
    "\n",
    "Edge chains $C_1$\n",
    "\n",
    "$$\n",
    "c_1 = [12 + 23 + 34]\\\\\n",
    "c_1' = [12 + 14 + 23 + 34]\n",
    "$$\n",
    "\n",
    "Triangle chains $C_2$\n",
    "\n",
    "$$\n",
    "c_2 = [234]\\\\\n",
    "$$"
   ]
  },
  {
   "cell_type": "markdown",
   "metadata": {},
   "source": [
    "#### Summation\n",
    "\n",
    "One can take sums of chains, over $\\mathbb{Z}_2$ the summation is defined modulo 2\n",
    "\n",
    "$$\n",
    "\\begin{align}\n",
    "c_1 + c_1' &= [12 + 23 + 34] + [12 + 14 + 24 + 34]\\\\\n",
    "&= [14 + 23 + 24]\n",
    "\\end{align}\n",
    "$$"
   ]
  },
  {
   "cell_type": "code",
   "execution_count": null,
   "metadata": {},
   "outputs": [],
   "source": [
    "# 12, 14, 23, 24, 34\n",
    "c1 = np.array([1, 0, 1, 0, 1])\n",
    "c1_prime = np.array([1, 1, 0, 1, 1])\n",
    "(c1 + c1_prime) % 2"
   ]
  },
  {
   "cell_type": "code",
   "execution_count": null,
   "metadata": {},
   "outputs": [],
   "source": [
    "# draw simplicial complex\n",
    "fig = plt.figure(figsize=(6,4.5))\n",
    "plt.title(\"Geometric realization of simplicial complex K\")\n",
    "for i in range(4):\n",
    "    plt.text(pos[i][0] + offset[0], pos[i][1] + offset[1], str(i+1), fontsize=16)\n",
    "simplicial.drawing.draw_complex(K, em)"
   ]
  },
  {
   "cell_type": "markdown",
   "metadata": {},
   "source": [
    "### Boundary operator\n",
    "\n",
    "Given a $k$-simplex $\\sigma = [v_0, v_1, \\dots, v_k] \\in \\Delta_k$ its boundary $\\partial_k \\sigma \\in \\Delta_{k-1}$ is defined\n",
    "\n",
    "$$\\partial_k \\sigma = \\sum_{i=0}^k~[v_0, v_1, \\dots, v_i, v_{i+1}, \\dots, v_k]$$\n",
    "\n",
    "#### Examples\n",
    "\n",
    "Edge\n",
    "\n",
    "$$c_1 = 12\\\\\n",
    "\\partial c_1 = 2 + 1$$\n",
    "\n",
    "Triangle\n",
    "\n",
    "$$c_2 = 234\\\\\n",
    "\\partial c_2 = 34 + 24 + 23$$"
   ]
  },
  {
   "cell_type": "markdown",
   "metadata": {},
   "source": [
    "#### Matrix representation\n",
    "\n",
    "Boundary operator $\\partial_k$ for a fixed basis can be represented by a matrix $\\mathbf{B}_k$ having $k$-simplices $\\sigma$ on columns and $k-1$-simplices $\\tau$ on rows and $b_{ij} = 1$ if $\\tau$ is in a boundary of $\\sigma$."
   ]
  },
  {
   "cell_type": "code",
   "execution_count": null,
   "metadata": {},
   "outputs": [],
   "source": [
    "# 12, 14, 23, 24, 34 -- columns\n",
    "# 1, 2, 3, 4 -- rows\n",
    "B1 = np.array([\n",
    "    [1, 1, 0, 0, 0],\n",
    "    [1, 0, 1, 1, 0],\n",
    "    [0, 0, 1, 0, 1],\n",
    "    [0, 1, 0, 1, 1]\n",
    "])"
   ]
  },
  {
   "cell_type": "code",
   "execution_count": null,
   "metadata": {},
   "outputs": [],
   "source": [
    "# draw simplicial complex\n",
    "fig = plt.figure(figsize=(6,4.5))\n",
    "plt.title(\"Geometric realization of simplicial complex K\")\n",
    "for i in range(4):\n",
    "    plt.text(pos[i][0] + offset[0], pos[i][1] + offset[1], str(i+1), fontsize=16)\n",
    "simplicial.drawing.draw_complex(K, em)"
   ]
  },
  {
   "cell_type": "markdown",
   "metadata": {},
   "source": [
    "### Boundaries of chains"
   ]
  },
  {
   "cell_type": "markdown",
   "metadata": {},
   "source": [
    "#### Boundary of a chain\n",
    "\n",
    "Boundary operator is linear\n",
    "\n",
    "$$\n",
    "\\begin{align}\n",
    "c &= 12 + 24 + 34\\\\\\\\\n",
    "\\partial c &= \\partial(12 + 24 + 34)\\\\\n",
    "\\partial c &= \\partial(12) + \\partial(24) + \\partial(34)\\\\\n",
    "\\partial c &= (2 + 1) + (4 + 2) + (4 + 3)\\\\\n",
    "\\partial c &= 1 + 3\n",
    "\\end{align}\n",
    "$$"
   ]
  },
  {
   "cell_type": "code",
   "execution_count": null,
   "metadata": {},
   "outputs": [],
   "source": [
    "c = np.array([1, 0, 0, 1, 1]) # 1*12 + 0*14 + 0*23 + 1*24 + 1*34\n",
    "B1 @ c % 2"
   ]
  },
  {
   "cell_type": "code",
   "execution_count": null,
   "metadata": {},
   "outputs": [],
   "source": [
    "# draw simplicial complex\n",
    "fig = plt.figure(figsize=(6,4.5))\n",
    "plt.title(\"Geometric realization of simplicial complex K\")\n",
    "for i in range(4):\n",
    "    plt.text(pos[i][0] + offset[0], pos[i][1] + offset[1], str(i+1), fontsize=16)\n",
    "simplicial.drawing.draw_complex(K, em)"
   ]
  },
  {
   "cell_type": "code",
   "execution_count": null,
   "metadata": {},
   "outputs": [],
   "source": [
    "D1 = np.array([\n",
    "    [1, 1, 0, 0, 0],\n",
    "    [-1, 0, 1, 1, 0],\n",
    "    [0, 0, -1, 0, 1],\n",
    "    [0, -1, 0, -1, -1]\n",
    "])\n",
    "# 12, 14, 23, 24, 34 -- columns\n",
    "c_oriented = np.array([1, 0, 0, 1, -1])\n",
    "z_oriented = np.array([1, -1, 1, 0, 1])\n",
    "D1 @ c_oriented, D1 @ z_oriented"
   ]
  },
  {
   "cell_type": "markdown",
   "metadata": {},
   "source": [
    "#### Boundary of a cycle\n",
    "\n",
    "$$\n",
    "\\begin{align}\n",
    "z &= 12 + 14 + 23 + 34\\\\\\\\\n",
    "\\partial z &= \\partial(12) + \\partial(14) + \\partial(23) + \\partial(34)\\\\\n",
    "\\partial z &= (2 + 1) + (4 + 1) + (2 + 3) + (4 + 3)\\\\\n",
    "\\partial z &= 0\n",
    "\\end{align}\n",
    "$$"
   ]
  },
  {
   "cell_type": "code",
   "execution_count": null,
   "metadata": {},
   "outputs": [],
   "source": [
    "z = np.array([1, 1, 1, 0, 1])\n",
    "B1 @ z % 2"
   ]
  },
  {
   "cell_type": "markdown",
   "metadata": {},
   "source": [
    "#### Exercise\n",
    "\n",
    "Find the boundary of the other cycle in the complex $K$."
   ]
  },
  {
   "cell_type": "code",
   "execution_count": null,
   "metadata": {},
   "outputs": [],
   "source": [
    "z_prime = np.array([1, 1, 0, 1, 0])\n",
    "B1 @ z_prime % 2 # check if z_prime boundary is zero"
   ]
  },
  {
   "cell_type": "markdown",
   "metadata": {},
   "source": [
    "### Chain complex\n",
    "\n",
    "Chain complex is a sequence of chain spaces connected with boundary maps\n",
    "\n",
    "$$C_2 \\xrightarrow{\\partial_2} C_1  \\xrightarrow{\\partial_1} C_0$$\n",
    "\n",
    "For a given chain space $C_k$ the space of cycles $Z_k$ consists of all elements of $C_k$ which boundary $\\partial_k$ is zero.\n",
    "\n",
    "$$\n",
    "\\begin{align}\n",
    "Z_k &= \\mathrm{ker}~\\partial_k\\\\\n",
    "Z_k &= \\{ c \\in C_k \\mid \\partial_k = 0 \\}\\\\\\\\\n",
    "B_k &= \\mathrm{im}~\\partial_{k+1}\\\\\n",
    "B_k &= \\{ c \\in C_k \\mid \\partial_{k+1}d = c,~\\mathrm{for~some}~d \\in C_{k+1} \\}\n",
    "\\end{align}\n",
    "$$\n",
    "\n",
    "Hierarchy of spaces\n",
    "\n",
    "$$B_k \\subseteq Z_k \\subseteq C_k$$"
   ]
  },
  {
   "cell_type": "code",
   "execution_count": null,
   "metadata": {},
   "outputs": [],
   "source": [
    "# draw simplicial complex\n",
    "fig = plt.figure(figsize=(6,4.5))\n",
    "plt.title(\"Geometric realization of simplicial complex K\")\n",
    "for i in range(4):\n",
    "    plt.text(pos[i][0] + offset[0], pos[i][1] + offset[1], str(i+1), fontsize=16)\n",
    "simplicial.drawing.draw_complex(K, em)"
   ]
  },
  {
   "cell_type": "markdown",
   "metadata": {},
   "source": [
    "### Cycles and boundaries groups of $K$"
   ]
  },
  {
   "cell_type": "markdown",
   "metadata": {},
   "source": [
    "$$Z_1 = \\{ [12 + 14 + 24], [23 + 24 + 34], [12 + 14 + 23 + 34] \\}$$\n",
    "$$B_1 = \\{[23 + 24 + 34]\\}$$"
   ]
  },
  {
   "cell_type": "markdown",
   "metadata": {},
   "source": [
    "#### Homologous cycles\n",
    "\n",
    "Two cycles $c_1$ and $c_2$ are said homologous $c_1 \\sim c_2$ if their difference $c_1 - c_2 \\in B_k$."
   ]
  },
  {
   "cell_type": "code",
   "execution_count": null,
   "metadata": {},
   "outputs": [],
   "source": [
    "# 12, 14, 23, 24, 34\n",
    "z1 = np.array([1, 1, 0, 1, 0])\n",
    "z2 = np.array([1, 1, 1, 0, 1])"
   ]
  },
  {
   "cell_type": "code",
   "execution_count": null,
   "metadata": {},
   "outputs": [],
   "source": [
    "(z1 - z2) % 2 # 0*12 + 0*14 + 23 + 24 + 34"
   ]
  },
  {
   "cell_type": "markdown",
   "metadata": {},
   "source": [
    "#### Homology group\n",
    "\n",
    "$$\n",
    "\\begin{align}\n",
    "H_k &= \\mathrm{ker}~\\partial_k~/~\\mathrm{im}~\\partial_{k+1}\\\\\n",
    "H_k &= Z_k~/~B_k\n",
    "\\end{align}\n",
    "$$\n",
    "\n",
    "#### Naive algorithm\n",
    "\n",
    "Check for all cycles in $Z_k$ where their difference is an element (or combination) of $B_k$."
   ]
  },
  {
   "cell_type": "markdown",
   "metadata": {},
   "source": [
    "## Algorithms for computing homology\n",
    "\n",
    "### Ranks\n",
    "\n",
    "Field $\\mathbb{Z}$.\n",
    "\n",
    "Given a simplicial complex $K$ with f-vector $\\mathbf{f}$, boundary matrices $\\mathrm{B}_k$ and $\\mathrm{B}_{k+1}$ the $k$-the Betti number, i.e. the rank of $k$-th homology group $H_k$ is\n",
    "\n",
    "\\begin{equation}\n",
    "\\beta_k = \\mathbf{f}_k - \\mathrm{rank}\\mathbf{B}_k - \\mathrm{rank}\\mathbf{B}_{k+1}.\n",
    "\\end{equation}\n",
    "\n",
    "#### Boundary matrix "
   ]
  },
  {
   "cell_type": "code",
   "execution_count": null,
   "metadata": {},
   "outputs": [],
   "source": [
    "# oriented, field Z\n",
    "D0 = np.array([[0, 0, 0, 0]]) # 1, 2, 3, 4\n",
    "D1 = np.array([\n",
    "    [1, 1, 0, 0, 0],\n",
    "    [-1, 0, 1, 1, 0],\n",
    "    [0, 0, -1, 0, 1],\n",
    "    [0, -1, 0, -1, -1]\n",
    "])\n",
    "D2 = np.array([[0, 0, -1, 1, -1]]).T # 234"
   ]
  },
  {
   "cell_type": "code",
   "execution_count": null,
   "metadata": {},
   "outputs": [],
   "source": [
    "# your code here"
   ]
  },
  {
   "cell_type": "markdown",
   "metadata": {},
   "source": [
    "### Hodge Laplacian eigendecomposition\n",
    "\n",
    "$k$-th Hodge Laplacian is defined\n",
    "\n",
    "\\begin{equation}\n",
    "\\mathbf{L}_k = \\mathbf{B}_k^T \\mathbf{B}_k + \\mathbf{B}_{k+1} \\mathbf{B}_{k+1}^T,\n",
    "\\end{equation}\n",
    "\n",
    "then the $k$-the Betti number is the number of zero eigenvalues of $\\mathbf{L}_k$."
   ]
  },
  {
   "cell_type": "code",
   "execution_count": null,
   "metadata": {},
   "outputs": [],
   "source": [
    "# your code here"
   ]
  },
  {
   "cell_type": "markdown",
   "metadata": {},
   "source": [
    "### Boundary matrix reduction\n",
    "\n",
    "Ring $\\mathbb{Z}2$\n",
    "\n",
    "![Matrix reduction](./img/reduction.png)"
   ]
  },
  {
   "cell_type": "code",
   "execution_count": null,
   "metadata": {},
   "outputs": [],
   "source": [
    "# non-oriented, ring Z0\n",
    "B0 = np.array([[0, 0, 0, 0]]) # 1, 2, 3, 4\n",
    "B1 = np.array([\n",
    "    [1, 1, 0, 0, 0],\n",
    "    [1, 0, 1, 1, 0],\n",
    "    [0, 0, 1, 0, 1],\n",
    "    [0, 1, 0, 1, 1]\n",
    "]) # 12, 14, 23, 24, 34\n",
    "B2 = np.array([[0, 0, 1, 1, 1]]).T # 234\n",
    "B = block_diag(B0, B1, B2)"
   ]
  },
  {
   "cell_type": "code",
   "execution_count": null,
   "metadata": {},
   "outputs": [],
   "source": [
    "B"
   ]
  },
  {
   "cell_type": "code",
   "execution_count": null,
   "metadata": {},
   "outputs": [],
   "source": [
    "# your code here\n",
    "R = #???"
   ]
  }
 ],
 "metadata": {
  "@webio": {
   "lastCommId": null,
   "lastKernelId": null
  },
  "kernelspec": {
   "display_name": "Python 3 (ipykernel)",
   "language": "python",
   "name": "python3"
  },
  "language_info": {
   "codemirror_mode": {
    "name": "ipython",
    "version": 3
   },
   "file_extension": ".py",
   "mimetype": "text/x-python",
   "name": "python",
   "nbconvert_exporter": "python",
   "pygments_lexer": "ipython3",
   "version": "3.10.2"
  }
 },
 "nbformat": 4,
 "nbformat_minor": 2
}
